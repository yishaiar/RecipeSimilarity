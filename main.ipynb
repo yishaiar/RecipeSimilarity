{
 "cells": [
  {
   "cell_type": "code",
   "execution_count": 1,
   "metadata": {},
   "outputs": [
    {
     "name": "stdout",
     "output_type": "stream",
     "text": [
      "base_dir: /Users/yishai/Desktop/RecipeSimilarity/app\n",
      "data_dir: /Users/yishai/Desktop/RecipeSimilarity/data\n"
     ]
    }
   ],
   "source": [
    "from app.dotenv import base_dir, data_dir\n",
    "import os, numpy as np\n",
    "import pandas as pd; \n",
    "\n",
    "pd.set_option('display.width', None)\n",
    "pd.set_option('display.max_columns', None)\n",
    "pd.set_option('display.max_rows', None)\n",
    "print('base_dir:', base_dir)\n",
    "print('data_dir:', data_dir)\n",
    "# print('dotenv params:', {os.getenv('PARAM1')})\n"
   ]
  },
  {
   "cell_type": "markdown",
   "metadata": {},
   "source": [
    "download and parse dataset"
   ]
  },
  {
   "cell_type": "code",
   "execution_count": 2,
   "metadata": {},
   "outputs": [
    {
     "name": "stdout",
     "output_type": "stream",
     "text": [
      "dict_keys(['title', 'ingredients', 'instructions', 'picture_link', 'website'])\n",
      "recipes_raw_nosource_ar.json len: 100\n",
      "total data len: 100\n",
      "dict_keys(['ingredients', 'picture_link', 'instructions', 'title', 'website'])\n",
      "recipes_raw_nosource_epi.json len: 100\n",
      "total data len: 200\n",
      "dict_keys(['instructions', 'ingredients', 'title', 'picture_link', 'website'])\n",
      "recipes_raw_nosource_fn.json len: 100\n",
      "total data len: 300\n",
      "Title: Slow Cooker Chicken and Dumplings\n",
      "Ingredients:\n",
      " - 4 skinless, boneless chicken breast halves ADVERTISEMENT\n",
      " - 2 tablespoons butter ADVERTISEMENT\n",
      " - 2 (10.75 ounce) cans condensed cream of chicken soup ADVERTISEMENT\n",
      " - 1 onion, finely diced ADVERTISEMENT\n",
      " - 2 (10 ounce) packages refrigerated biscuit dough, torn into pieces ADVERTISEMENT\n",
      " - ADVERTISEMENT\n",
      "Instructions:\n",
      "Place the chicken, butter, soup, and onion in a slow cooker, and fill with enough water to cover.\n",
      "Cover, and cook for 5 to 6 hours on High. About 30 minutes before serving, place the torn biscuit dough in the slow cooker. Cook until the dough is no longer raw in the center.\n",
      "\n",
      "Picture Link: 55lznCYBbs2mT8BTx6BTkLhynGHzM.S\n",
      "Website: ar\n",
      "\n",
      "----------------------------------------\n",
      "\n"
     ]
    }
   ],
   "source": [
    "from app.load_dataset import download_zip,parse_json,print_recipe\n",
    "\n",
    "\n",
    "# Check if the file already exists, if not download it\n",
    "if not os.path.exists(f'{data_dir}/recipes_raw.zip'):# \n",
    "    download_zip(data_dir,url = 'https://eightportions.com/recipes_raw.zip')\n",
    "data = parse_json(zip_file_path = f'{data_dir}/recipes_raw.zip')\n",
    "\n",
    "\n",
    "\n",
    "for recipe_id, recipe in data.items():\n",
    "    recipe_series = pd.Series(recipe)\n",
    "\n",
    "    # recipes_df = pd.DataFrame.from_dict(recipe, orient='index')\n",
    "    print_recipe(recipe_series)\n",
    "    break\n"
   ]
  },
  {
   "cell_type": "markdown",
   "metadata": {},
   "source": [
    "\n",
    "Standardize data: implement a better structured data model that can accommodate the various attributes of recipes using the above dataset\n",
    "1. Ensure that each recipe follows the same structure (represented with consistent fields)\n",
    "2. drop recipes without instructions\n",
    "3. Flatten ingredients list into separate keys (number of columns according to max value in data)\n",
    "4. Convert into dataframe (each key into column, each recipe into new row)"
   ]
  },
  {
   "cell_type": "code",
   "execution_count": 3,
   "metadata": {},
   "outputs": [
    {
     "name": "stdout",
     "output_type": "stream",
     "text": [
      "ingredients max num: 55\n",
      "fields which may have null value: ['picture_link']\n",
      "recipes without instructions (removed from data): []\n",
      "recipes without ingredients (removed from data): [281]\n",
      "Title: Slow Cooker Chicken and Dumplings\n",
      "Ingredients:\n",
      "Instructions:\n",
      "Place the chicken, butter, soup, and onion in a slow cooker, and fill with enough water to cover.\n",
      "Cover, and cook for 5 to 6 hours on High. About 30 minutes before serving, place the torn biscuit dough in the slow cooker. Cook until the dough is no longer raw in the center.\n",
      "\n",
      "Picture Link: 55lznCYBbs2mT8BTx6BTkLhynGHzM.S\n",
      "Website: ar\n",
      "\n",
      "----------------------------------------\n",
      "\n"
     ]
    },
    {
     "data": {
      "text/plain": [
       "Index(['title', 'instructions', 'picture_link', 'website', '0', '1', '2', '3',\n",
       "       '4', '5', '6', '7', '8', '9', '10', '11', '12', '13', '14', '15', '16',\n",
       "       '17', '18', '19', '20', '21', '22', '23', '24', '25', '26', '27', '28',\n",
       "       '29', '30', '31', '32', '33', '34', '35', '36', '37', '38', '39', '40',\n",
       "       '41', '42', '43', '44', '45', '46', '47', '48', '49', '50', '51', '52',\n",
       "       '53', '54'],\n",
       "      dtype='object')"
      ]
     },
     "execution_count": 3,
     "metadata": {},
     "output_type": "execute_result"
    }
   ],
   "source": [
    "from app.preprocess import standardize\n",
    "\n",
    "df,ingredients_columns = standardize(data.copy(),list(data[0].keys()))\n",
    "\n",
    "print_recipe(df.loc[0])\n",
    "df.columns\n",
    "\n"
   ]
  },
  {
   "cell_type": "markdown",
   "metadata": {},
   "source": [
    "Normalize Text: \n",
    "   1. clean_text: \n",
    "       1. remove encoding characters like \\xad, \\u00ad, seperate punctuation, \n",
    "       2. remove words like 'ADVERTISEMENT' and other non-recipe related terms\n",
    "       3. converting to lower case\n",
    "       4. remove leading/trailing whitespaces.\n",
    "   2. split_number_and_word: split a word containing a number and a word (take1.2 -> take 1.2)\n",
    "   3. split_un_words: split words starting with 'un' into 'un' and the rest of the word ('unsalted' becomes ['un', 'salted'])."
   ]
  },
  {
   "cell_type": "code",
   "execution_count": 4,
   "metadata": {},
   "outputs": [
    {
     "name": "stdout",
     "output_type": "stream",
     "text": [
      "Index(['title', 'instructions', 'picture_link', 'website', '0', '1', '2', '3',\n",
      "       '4', '5', '6', '7', '8', '9', '10', '11', '12', '13', '14', '15', '16',\n",
      "       '17', '18', '19', '20', '21', '22', '23', '24', '25', '26', '27', '28',\n",
      "       '29', '30', '31', '32', '33', '34', '35', '36', '37', '38', '39', '40',\n",
      "       '41', '42', '43', '44', '45', '46', '47', '48', '49', '50', '51', '52',\n",
      "       '53', '54'],\n",
      "      dtype='object')\n"
     ]
    }
   ],
   "source": [
    "\n",
    "from app.preprocess import normalize_text\n",
    "df = normalize_text(df.copy(), df.columns)\n",
    "\n",
    "# df = df[['0']]\n",
    "print(df.columns)\n",
    "# df.columns\n",
    "\n",
    "\n"
   ]
  },
  {
   "cell_type": "markdown",
   "metadata": {},
   "source": []
  },
  {
   "cell_type": "markdown",
   "metadata": {},
   "source": [
    "extract entities from the ingredients sentences:\n",
    "1. extract ingredients (2 teaspoons of salt -> salt is the ingredient)\n",
    "2. extract units in data and their transformation \n",
    "   1. example: teaspoon is a volume unit, all volume units are transformed into cups )\n",
    "3. convert values in text into numeric values (¼ -> 0.25, )\n",
    "4. extract numeric values in text (2 teaspoons the value is 2)\n",
    "5. transform values (2 teaspoons are transformed into cups)\n",
    "6. rows with no units and values are seasoning and ignored (such as: add salt and pepper by taste)\n",
    "\n",
    "output: for each ingredient a column with amount and unit; before and after the conversion\n",
    "\n",
    "left to do: \n",
    "1. when theres 1¼ instead of output 1.25 there is [1,0.25]\n",
    "   a. fix: when converting into numeric values  - search for close value and add it (1+0.25)\n",
    "2. when having more than 1 value/unit output (example: 2 cans where each is 10 oz)\n",
    "   1. according to proximity find relations to ingredient (noun) and take the correct value"
   ]
  },
  {
   "cell_type": "code",
   "execution_count": 5,
   "metadata": {},
   "outputs": [
    {
     "name": "stdout",
     "output_type": "stream",
     "text": [
      "sentence: 2 ( 10.75 ounce ) cans condensed cream of mushroom soup\n",
      "amounts {'0_units_orig': ['ounce'], '0_units_converted': ['cup'], '0_amount_orig': [2.0, 10.75], '0_amount_converted': 0.25}\n",
      "ingredients: ['cream', 'mushroom', 'soup']\n"
     ]
    }
   ],
   "source": [
    "from app.extract_entities.amounts import extract_entities,measurement_units,nlp\n",
    "df = extract_entities (df.copy(),ingredients_columns)\n",
    "\n",
    "print('sentence:', df['0'].loc[1])\n",
    "print('amounts',df['0_amount'].loc[1])\n",
    "print('ingredients:', df['0_ingredients'].loc[1])"
   ]
  },
  {
   "cell_type": "markdown",
   "metadata": {},
   "source": [
    "todo: create back text from entities"
   ]
  },
  {
   "cell_type": "code",
   "execution_count": null,
   "metadata": {},
   "outputs": [],
   "source": [
    "def append_ingrediants(row):\n",
    "    return row['0_amount'] + ' ' + row['0_ingredients']\n",
    "for column in ingredients_columns:\n",
    "    df[column] = df.apply(lambda row: append_ingrediants(df[f'{column}_amount'], df[f'{column}_ingredients']), axis=1)\n",
    "    df['result'] = df.apply(lambda row: append_ingrediants(df[f'{column}_amount'], df[f'{column}_ingredients']) \n",
    "                            if pd.notna(row['col1']) else (row['col2']  else None),axis=1)\n",
    "\n"
   ]
  },
  {
   "cell_type": "code",
   "execution_count": null,
   "metadata": {},
   "outputs": [],
   "source": [
    "merge data:\n",
    "    for each row in df:\n",
    "        find which ingredints columns are not empty\n",
    "        for each ingredin:\n",
    "            merge ingredints, amounts, units\n",
    "            append to total_ingredients\n",
    "    drop all ingredints columns\n",
    "    drop all rows except total_ingredients,title and instructions\n",
    "         "
   ]
  },
  {
   "cell_type": "code",
   "execution_count": null,
   "metadata": {},
   "outputs": [],
   "source": [
    "# # Example recipe descriptions for 3 recipes\n",
    "# data1 = [\n",
    "#     \"1 teaspoon salt, 2 cups flour, 1 cup sugar, bake at 350°F\",  # ingredients\n",
    "#     \"Chocolate Cake\",                                            # title\n",
    "#     \"Mix ingredients, bake at 350°F\",                            # instructions\n",
    "# ]\n",
    "\n",
    "# data2 = [\n",
    "#     \"2 teaspoons vinegar, 1.5 cups flour, 1 cup sugar, bake at 350°F\",  # ingredients\n",
    "#     \"Chocolate Cake\",                                                 # title\n",
    "#     \"Mix ingredients, bake at 350°F\",                                 # instructions\n",
    "# ]\n",
    "\n",
    "# data3 = [\n",
    "#     \"1 tablespoon salt, 3 cups flour, 1.5 cups sugar, bake at 375°F\",  # ingredients\n",
    "#     \"Vanilla Cake\",                                                  # title\n",
    "#     \"Mix ingredients, bake at 375°F\",                                 # instructions\n",
    "# ]\n",
    "\n",
    "# # List of data sets for 3 recipes\n",
    "# data_sets = [data1, data2,data3]\n",
    "\n",
    "# # Example of weights for each component of the data (ingredients, title, and instructions)"
   ]
  },
  {
   "cell_type": "markdown",
   "metadata": {},
   "source": [
    "Similarity Calculation and Visualization\n",
    "\n",
    "1. Similarity Metrics - composed of 3 parts:\n",
    "    1. Cosine Similarity: Measures the cosine of the angle between two vectors. \n",
    "    2. Embeddings: vectors are represention of each recipe parts (ingredients, instructions, titles), using Sentence Embeddings (via SBERT model).\n",
    "    3. Weighted Similarity: Combines different recipe parts similarity with weights to give more importance to certain parts of the recipe.\n",
    "2. Visualization: heatmap is generated to visually compare similarities between multiple recipes based on the metrics above."
   ]
  },
  {
   "cell_type": "code",
   "execution_count": null,
   "metadata": {},
   "outputs": [
    {
     "name": "stdout",
     "output_type": "stream",
     "text": [
      "Similarity Matrix:\n",
      "[[1.00000004 0.91102347 0.88791271]\n",
      " [0.91102347 1.00000021 0.82112558]\n",
      " [0.88791271 0.82112558 1.        ]]\n"
     ]
    },
    {
     "data": {
      "image/png": "[encoded data removed]",
      "text/plain": [
       "<Figure size 1500x1200 with 2 Axes>"
      ]
     },
     "metadata": {},
     "output_type": "display_data"
    }
   ],
   "source": [
    "from app.similarity.compute import compute_similarity_matrix\n",
    "from app.similarity.plot import plot_heatmap\n",
    "\n",
    "\n",
    "\n",
    "# Compute the similarity matrix for the 3 recipes\n",
    "weights = [0.5, 0.3, 0.2]  # For ingredients, title, and instructions\n",
    "similarity_matrix = compute_similarity_matrix(data_sets, weights)\n",
    "\n",
    "# Generate a 1000x1000 similarity matrix - for testing purposes\n",
    "# similarity_matrix = generate_dummy_matrix(size=1000)\n",
    "plot_heatmap(similarity_matrix, labels=None)\n",
    "\n",
    "print(\"Similarity Matrix:\")\n",
    "print(similarity_matrix)"
   ]
  },
  {
   "cell_type": "code",
   "execution_count": null,
   "metadata": {},
   "outputs": [
    {
     "ename": "TypeError",
     "evalue": "sequence item 0: expected str instance, list found",
     "output_type": "error",
     "traceback": [
      "\u001b[0;31m---------------------------------------------------------------------------\u001b[0m",
      "\u001b[0;31mTypeError\u001b[0m                                 Traceback (most recent call last)",
      "Cell \u001b[0;32mIn[8], line 31\u001b[0m\n\u001b[1;32m     29\u001b[0m     \u001b[38;5;66;03m# Return a list of words sorted by frequency\u001b[39;00m\n\u001b[1;32m     30\u001b[0m     \u001b[38;5;28;01mreturn\u001b[39;00m sorted_words\n\u001b[0;32m---> 31\u001b[0m unique_words \u001b[38;5;241m=\u001b[39m \u001b[43mget_unique_words\u001b[49m\u001b[43m(\u001b[49m\u001b[43mdf\u001b[49m\u001b[43m,\u001b[49m\u001b[43m \u001b[49m\u001b[43mcolumns\u001b[49m\u001b[43m \u001b[49m\u001b[38;5;241;43m=\u001b[39;49m\u001b[43m \u001b[49m\u001b[43m[\u001b[49m\u001b[43mi\u001b[49m\u001b[43m \u001b[49m\u001b[38;5;28;43;01mfor\u001b[39;49;00m\u001b[43m \u001b[49m\u001b[43mi\u001b[49m\u001b[43m \u001b[49m\u001b[38;5;129;43;01min\u001b[39;49;00m\u001b[43m \u001b[49m\u001b[43mdf\u001b[49m\u001b[38;5;241;43m.\u001b[39;49m\u001b[43mcolumns\u001b[49m\u001b[43m \u001b[49m\u001b[38;5;28;43;01mif\u001b[39;49;00m\u001b[43m \u001b[49m\u001b[38;5;124;43m'\u001b[39;49m\u001b[38;5;124;43mingredients\u001b[39;49m\u001b[38;5;124;43m'\u001b[39;49m\u001b[43m \u001b[49m\u001b[38;5;129;43;01min\u001b[39;49;00m\u001b[43m \u001b[49m\u001b[43mi\u001b[49m\u001b[43m]\u001b[49m\u001b[43m)\u001b[49m\n\u001b[1;32m     32\u001b[0m \u001b[38;5;66;03m# unique_words = get_unique_words(df,[col for col in df.columns if 'ingredients' in col] )#['instructions','ingredients_1']\u001b[39;00m\n",
      "Cell \u001b[0;32mIn[8], line 9\u001b[0m, in \u001b[0;36mget_unique_words\u001b[0;34m(df, columns)\u001b[0m\n\u001b[1;32m      7\u001b[0m text \u001b[38;5;241m=\u001b[39m \u001b[38;5;124m'\u001b[39m\u001b[38;5;124m'\u001b[39m\n\u001b[1;32m      8\u001b[0m \u001b[38;5;28;01mfor\u001b[39;00m column \u001b[38;5;129;01min\u001b[39;00m columns:\n\u001b[0;32m----> 9\u001b[0m     text \u001b[38;5;241m+\u001b[39m\u001b[38;5;241m=\u001b[39m \u001b[38;5;124;43m'\u001b[39;49m\u001b[38;5;124;43m \u001b[39;49m\u001b[38;5;124;43m'\u001b[39;49m\u001b[38;5;241;43m.\u001b[39;49m\u001b[43mjoin\u001b[49m\u001b[43m(\u001b[49m\u001b[43mdf\u001b[49m\u001b[43m[\u001b[49m\u001b[43mcolumn\u001b[49m\u001b[43m]\u001b[49m\u001b[38;5;241;43m.\u001b[39;49m\u001b[43mloc\u001b[49m\u001b[43m[\u001b[49m\u001b[43mdf\u001b[49m\u001b[43m[\u001b[49m\u001b[43mcolumn\u001b[49m\u001b[43m]\u001b[49m\u001b[38;5;241;43m.\u001b[39;49m\u001b[43mnotnull\u001b[49m\u001b[43m(\u001b[49m\u001b[43m)\u001b[49m\u001b[43m]\u001b[49m\u001b[43m)\u001b[49m\n\u001b[1;32m     11\u001b[0m \u001b[38;5;66;03m# Split the text into words\u001b[39;00m\n\u001b[1;32m     12\u001b[0m words \u001b[38;5;241m=\u001b[39m text\u001b[38;5;241m.\u001b[39msplit()\n",
      "\u001b[0;31mTypeError\u001b[0m: sequence item 0: expected str instance, list found"
     ]
    }
   ],
   "source": [
    "# import pandas as pd\n",
    "# from collections import Counter\n",
    "\n",
    "# # Function to get unique words sorted by frequency\n",
    "# def get_unique_words(df, columns):\n",
    "#     # Combine all sentences into a single string and convert to lowercase\n",
    "#     text = ''\n",
    "#     for column in columns:\n",
    "#         text += ' '.join(df[column].loc[df[column].notnull()])\n",
    "    \n",
    "#     # Split the text into words\n",
    "#     words = text.split()\n",
    "\n",
    "#     # Remove digits from the list of words\n",
    "#     def isDigit(x):\n",
    "#         try:\n",
    "#             float(x)\n",
    "#             return True\n",
    "#         except ValueError:\n",
    "#             return False\n",
    "#     words = [word for word in words if not isDigit(word) ]#word.isdigit()\n",
    "    \n",
    "#     # Count the frequency of each word using Counter\n",
    "#     word_counts = Counter(words)\n",
    "    \n",
    "#     # Sort words by frequency in descending order\n",
    "#     sorted_words = sorted(word_counts.items(), key=lambda x: x[1], reverse=True)\n",
    "    \n",
    "#     # Return a list of words sorted by frequency\n",
    "#     return sorted_words\n",
    "# unique_words = get_unique_words(df, columns = [i for i in df.columns if 'ingredients' in i])\n",
    "# # unique_words = get_unique_words(df,[col for col in df.columns if 'ingredients' in col] )#['instructions','ingredients_1']\n",
    "\n",
    "\n"
   ]
  },
  {
   "cell_type": "markdown",
   "metadata": {},
   "source": []
  },
  {
   "cell_type": "code",
   "execution_count": null,
   "metadata": {},
   "outputs": [],
   "source": [
    "\n",
    "import re\n",
    "\n",
    "def remove_extraneous_info(text):\n",
    "    \"\"\"\n",
    "    Remove words like 'ADVERTISEMENT' and other non-recipe related terms.\n",
    "    \"\"\"\n",
    "    return re.sub(r'\\bADVERTISEMENT\\b', '', text, flags=re.IGNORECASE).strip()"
   ]
  },
  {
   "cell_type": "code",
   "execution_count": null,
   "metadata": {},
   "outputs": [],
   "source": [
    "\n",
    "\n",
    "\n"
   ]
  }
 ],
 "metadata": {
  "kernelspec": {
   "display_name": ".venv",
   "language": "python",
   "name": "python3"
  },
  "language_info": {
   "codemirror_mode": {
    "name": "ipython",
    "version": 3
   },
   "file_extension": ".py",
   "mimetype": "text/x-python",
   "name": "python",
   "nbconvert_exporter": "python",
   "pygments_lexer": "ipython3",
   "version": "3.11.6"
  }
 },
 "nbformat": 4,
 "nbformat_minor": 2
}
