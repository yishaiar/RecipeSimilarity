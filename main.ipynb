{
 "cells": [
  {
   "cell_type": "code",
   "execution_count": null,
   "metadata": {},
   "outputs": [],
   "source": [
    "from app.dotenv import base_dir, data_dir\n",
    "import os, numpy as np\n",
    "import pandas as pd; \n",
    "\n",
    "pd.set_option('display.width', None)\n",
    "pd.set_option('display.max_columns', None)\n",
    "pd.set_option('display.max_rows', None)\n",
    "print('base_dir:', base_dir)\n",
    "print('data_dir:', data_dir)\n",
    "# print('dotenv params:', {os.getenv('PARAM1')})\n"
   ]
  },
  {
   "cell_type": "markdown",
   "metadata": {},
   "source": [
    "download and parse dataset"
   ]
  },
  {
   "cell_type": "code",
   "execution_count": null,
   "metadata": {},
   "outputs": [],
   "source": [
    "from app.load_dataset import download_zip,parse_json,print_recipe\n",
    "\n",
    "\n",
    "# Check if the file already exists, if not download it\n",
    "if not os.path.exists(f'{data_dir}/recipes_raw.zip'):# \n",
    "    download_zip(data_dir,url = 'https://eightportions.com/recipes_raw.zip')\n",
    "data = parse_json(zip_file_path = f'{data_dir}/recipes_raw.zip',load_all=False)\n",
    "\n",
    "\n",
    "\n",
    "for recipe_id, recipe in data.items():\n",
    "    recipe_series = pd.Series(recipe)\n",
    "\n",
    "    # recipes_df = pd.DataFrame.from_dict(recipe, orient='index')\n",
    "    print_recipe(recipe_series)\n",
    "    break#run only for the first recipe\n"
   ]
  },
  {
   "cell_type": "markdown",
   "metadata": {},
   "source": [
    "\n",
    "Standardize data: implement a better structured data model that can accommodate the various attributes of recipes using the above dataset\n",
    "1. Ensure that each recipe follows the same structure (represented with consistent fields)\n",
    "2. drop recipes without instructions\n",
    "3. Flatten ingredients list into separate keys (number of columns according to max value in data)\n",
    "4. Convert into dataframe (each key into column, each recipe into new row)"
   ]
  },
  {
   "cell_type": "code",
   "execution_count": null,
   "metadata": {},
   "outputs": [],
   "source": [
    "from app.preprocess import standardize\n",
    "\n",
    "df,ingredients_columns = standardize(data.copy(),list(data[0].keys()))\n",
    "print_recipe(df.loc[0])\n",
    "df.columns\n",
    "\n"
   ]
  },
  {
   "cell_type": "markdown",
   "metadata": {},
   "source": [
    "Normalize Text: \n",
    "   1. clean_text: \n",
    "       1. remove encoding characters like \\xad, \\u00ad, seperate punctuation, \n",
    "       2. remove words like 'ADVERTISEMENT' and other non-recipe related terms\n",
    "       3. converting to lower case\n",
    "       4. remove leading/trailing whitespaces.\n",
    "   2. split_number_and_word: split a word containing a number and a word (take1.2 -> take 1.2)\n",
    "   3. split_un_words: split words starting with 'un' into 'un' and the rest of the word ('unsalted' becomes ['un', 'salted'])."
   ]
  },
  {
   "cell_type": "code",
   "execution_count": null,
   "metadata": {},
   "outputs": [],
   "source": [
    "\n",
    "from app.preprocess import normalize_text\n",
    "df = normalize_text(df.copy(), df.columns)\n",
    "\n",
    "# df = df[['0']]\n",
    "print(df.columns)\n",
    "# df.columns\n",
    "\n",
    "\n"
   ]
  },
  {
   "cell_type": "markdown",
   "metadata": {},
   "source": []
  },
  {
   "cell_type": "markdown",
   "metadata": {},
   "source": [
    "extract entities from the ingredients sentences:\n",
    "1. extract ingredients (2 teaspoons of salt -> salt is the ingredient)\n",
    "2. extract units in data and their transformation \n",
    "   1. example: teaspoon is a volume unit, all volume units are transformed into cups )\n",
    "3. convert values in text into numeric values (¼ -> 0.25, )\n",
    "4. extract numeric values in text (2 teaspoons the value is 2)\n",
    "5. transform values (2 teaspoons are transformed into cups)\n",
    "6. rows with no units and values are seasoning and ignored (such as: add salt and pepper by taste)\n",
    "\n",
    "output: for each ingredient a column with amount and unit; before and after the conversion\n",
    "\n",
    "left to do: \n",
    "1. when theres 1¼ instead of output 1.25 there is [1,0.25]\n",
    "   a. fix: when converting into numeric values  - search for close value and add it (1+0.25)\n",
    "2. when having more than 1 value/unit output (example: 2 cans where each is 10 oz)\n",
    "   1. according to proximity find relations to ingredient (noun) and take the correct value"
   ]
  },
  {
   "cell_type": "code",
   "execution_count": null,
   "metadata": {},
   "outputs": [],
   "source": [
    "from app.extract_entities.amounts import extract_entities,measurement_units,nlp\n",
    "df = extract_entities (df.copy(),ingredients_columns)\n",
    "\n"
   ]
  },
  {
   "cell_type": "code",
   "execution_count": null,
   "metadata": {},
   "outputs": [],
   "source": [
    "# print the first ingridient of the first recepy and its conversion:\n",
    "print('first ingridient of the first recepy:', df['1'].loc[1])\n",
    "print('ingredients:', df['1_ingredients'].loc[1])\n",
    "print('amounts and units after conversion',df['1_converted'].loc[1])\n"
   ]
  },
  {
   "cell_type": "markdown",
   "metadata": {},
   "source": [
    "Recreate back the ingridients from the entities\n",
    "1. Combines the entities to a single column of the full recipe ingridients formated  as sentences\n",
    "2. The entities are after units and amounts conversion"
   ]
  },
  {
   "cell_type": "code",
   "execution_count": null,
   "metadata": {},
   "outputs": [],
   "source": [
    "from app.extract_entities.recreate import recreate_ingrediants_from_entities\n",
    "\n",
    "df = recreate_ingrediants_from_entities(df,ingredients_columns)                        \n",
    "df.drop(['picture_link', 'website'],inplace=True,axis = 1)#drop rows with no useful data\n",
    "\n",
    "print(df.columns)\n",
    "df.head()\n",
    "\n"
   ]
  },
  {
   "cell_type": "markdown",
   "metadata": {},
   "source": [
    "Similarity Calculation and Visualization\n",
    "\n",
    "\n",
    "1. Prepare the data - stack the recipe ngredients, title, instructions for each recipe  (list od lists)\n",
    "2. Similarity Metrics - composed of 3 parts:\n",
    "    1. Cosine Similarity: Measures the cosine of the angle between two vectors. \n",
    "    2. Embeddings: vectors are represention of each recipe parts (ingredients, instructions, titles), using Sentence Embeddings (via SBERT model).\n",
    "    3. Weighted Similarity: Combines different recipe parts similarity with weights to give more importance to certain parts of the recipe.\n",
    "3. Visualization: heatmap is generated to visually compare similarities between multiple recipes based on the metrics above."
   ]
  },
  {
   "cell_type": "code",
   "execution_count": null,
   "metadata": {},
   "outputs": [],
   "source": [
    "from app.similarity.compute import compute_similarity_matrix,prepare_data\n",
    "from app.similarity.plot import plot_heatmap\n",
    "# Prepare the data for the similarity computation by combining the ingredients, title, instructions of the recipe into a single list\n",
    "data = prepare_data(df)\n",
    "\n",
    "# Compute the similarity matrix for the 3 recipes\n",
    "weights = [0.5, 0.3, 0.2]  # For ingredients, title, and instructions\n",
    "similarity_matrix = compute_similarity_matrix(data, weights)\n",
    "\n",
    "# Generate a 1000x1000 similarity matrix - for testing purposes\n",
    "# similarity_matrix = generate_dummy_matrix(size=1000)\n",
    "plot_heatmap(similarity_matrix, labels=None)\n",
    "\n",
    "print(\"Similarity Matrix:\")\n",
    "print(similarity_matrix)"
   ]
  },
  {
   "cell_type": "code",
   "execution_count": null,
   "metadata": {},
   "outputs": [],
   "source": [
    "# import pandas as pd\n",
    "# from collections import Counter\n",
    "\n",
    "# # Function to get unique words sorted by frequency\n",
    "# def get_unique_words(df, columns):\n",
    "#     # Combine all sentences into a single string and convert to lowercase\n",
    "#     text = ''\n",
    "#     for column in columns:\n",
    "#         text += ' '.join(df[column].loc[df[column].notnull()])\n",
    "    \n",
    "#     # Split the text into words\n",
    "#     words = text.split()\n",
    "\n",
    "#     # Remove digits from the list of words\n",
    "#     def isDigit(x):\n",
    "#         try:\n",
    "#             float(x)\n",
    "#             return True\n",
    "#         except ValueError:\n",
    "#             return False\n",
    "#     words = [word for word in words if not isDigit(word) ]#word.isdigit()\n",
    "    \n",
    "#     # Count the frequency of each word using Counter\n",
    "#     word_counts = Counter(words)\n",
    "    \n",
    "#     # Sort words by frequency in descending order\n",
    "#     sorted_words = sorted(word_counts.items(), key=lambda x: x[1], reverse=True)\n",
    "    \n",
    "#     # Return a list of words sorted by frequency\n",
    "#     return sorted_words\n",
    "# unique_words = get_unique_words(df, columns = [i for i in df.columns if 'ingredients' in i])\n",
    "# # unique_words = get_unique_words(df,[col for col in df.columns if 'ingredients' in col] )#['instructions','ingredients_1']\n",
    "\n",
    "\n"
   ]
  },
  {
   "cell_type": "markdown",
   "metadata": {},
   "source": []
  }
 ],
 "metadata": {
  "kernelspec": {
   "display_name": ".venv",
   "language": "python",
   "name": "python3"
  },
  "language_info": {
   "codemirror_mode": {
    "name": "ipython",
    "version": 3
   },
   "file_extension": ".py",
   "mimetype": "text/x-python",
   "name": "python",
   "nbconvert_exporter": "python",
   "pygments_lexer": "ipython3",
   "version": "3.11.6"
  }
 },
 "nbformat": 4,
 "nbformat_minor": 2
}
